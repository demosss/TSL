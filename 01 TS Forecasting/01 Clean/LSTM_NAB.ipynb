{
 "cells": [
  {
   "attachments": {},
   "cell_type": "markdown",
   "metadata": {},
   "source": [
    "## Загрузка необходимых библиотек"
   ]
  },
  {
   "cell_type": "code",
   "execution_count": 3,
   "metadata": {},
   "outputs": [],
   "source": [
    "# Импорт стандарнтых библиотек\n",
    "import pandas as pd\n",
    "import matplotlib.pyplot as plt\n",
    "from sklearn.preprocessing import MinMaxScaler\n",
    "import torch\n",
    "from sklearn.metrics import mean_squared_error\n",
    "import warnings\n",
    "warnings.filterwarnings(\"ignore\", category=UserWarning)\n",
    "%matplotlib inline\n",
    "\n",
    "# Импорт дополнительных библиотек\n",
    "import sys\n",
    "sys.path.append('../../')\n",
    "\n",
    "import TSLib.models.utils as utils"
   ]
  },
  {
   "attachments": {},
   "cell_type": "markdown",
   "metadata": {},
   "source": [
    "## Определение констант"
   ]
  },
  {
   "cell_type": "code",
   "execution_count": 5,
   "metadata": {},
   "outputs": [
    {
     "data": {
      "text/plain": [
       "device(type='cuda')"
      ]
     },
     "execution_count": 5,
     "metadata": {},
     "output_type": "execute_result"
    }
   ],
   "source": [
    "seq_lenght = 288 # Длинна временной последовательнсоти\n",
    "batch_size=64 # размер батча\n",
    "device = torch.device('cuda' if torch.cuda.is_available() else 'cpu') # Устройство вычисления\n",
    "device"
   ]
  },
  {
   "attachments": {},
   "cell_type": "markdown",
   "metadata": {},
   "source": [
    "## Данные\n",
    "Загрузка датасета без аномалий в датафрейм pandas"
   ]
  },
  {
   "cell_type": "code",
   "execution_count": 6,
   "metadata": {},
   "outputs": [],
   "source": [
    "df = pd.read_csv('../../data/NAB/artificialNoAnomaly/art_daily_small_noise.csv', sep=',', index_col='timestamp', parse_dates=True)"
   ]
  },
  {
   "attachments": {},
   "cell_type": "markdown",
   "metadata": {},
   "source": [
    "Нормализация датафрейма"
   ]
  },
  {
   "cell_type": "code",
   "execution_count": 7,
   "metadata": {},
   "outputs": [],
   "source": [
    "scaler = MinMaxScaler()\n",
    "scaler.fit(df)\n",
    "norm_df = scaler.transform(df)"
   ]
  },
  {
   "attachments": {},
   "cell_type": "markdown",
   "metadata": {},
   "source": [
    "Создание даталоадера тренировочных и тестовых данных"
   ]
  },
  {
   "cell_type": "code",
   "execution_count": 8,
   "metadata": {},
   "outputs": [],
   "source": [
    "X, y = utils.create_sequences(norm_df, seq_lenght)\n",
    "X_train, X_test, y_train, y_test = utils.train_test_split(X, y, test_size=0.2)\n",
    "train_loader = utils.create_loader(X_train, y_train, batch_size, shuffle=True)\n",
    "test_loader = utils.create_loader(X_test, y_test, batch_size, shuffle=False)"
   ]
  },
  {
   "attachments": {},
   "cell_type": "markdown",
   "metadata": {},
   "source": [
    "## Модель\n",
    "Загрузка модели LSTM"
   ]
  },
  {
   "cell_type": "code",
   "execution_count": 9,
   "metadata": {},
   "outputs": [],
   "source": [
    "from TSLib.models.lstm import LSTM"
   ]
  },
  {
   "attachments": {},
   "cell_type": "markdown",
   "metadata": {},
   "source": [
    "Создание модели - экземпляра класса LSTM"
   ]
  },
  {
   "cell_type": "code",
   "execution_count": 10,
   "metadata": {},
   "outputs": [
    {
     "data": {
      "text/plain": [
       "LSTM(\n",
       "  (lstm): LSTM(1, 100, num_layers=2, batch_first=True)\n",
       "  (linear): Linear(in_features=100, out_features=1, bias=True)\n",
       "  (activat): ReLU()\n",
       ")"
      ]
     },
     "execution_count": 10,
     "metadata": {},
     "output_type": "execute_result"
    }
   ],
   "source": [
    "input_size = X_train.shape[2] # Размер входных данных\n",
    "hidden_size = 100 # Размер входных данных\n",
    "num_class = X_train.shape[2] # Размер входных данных\n",
    "num_layers = 2 # Размер входных данных\n",
    "\n",
    "model = LSTM(input_size, hidden_size, num_class, num_layers, device).to(device) # Создание модели\n",
    "model"
   ]
  },
  {
   "attachments": {},
   "cell_type": "markdown",
   "metadata": {},
   "source": [
    "Обучение"
   ]
  },
  {
   "cell_type": "code",
   "execution_count": 11,
   "metadata": {},
   "outputs": [
    {
     "name": "stdout",
     "output_type": "stream",
     "text": [
      "Epoch [1/20] - Training Loss: 0.0892 - Test Loss: 0.0238\n",
      "Epoch [2/20] - Training Loss: 0.0177 - Test Loss: 0.0133\n",
      "Epoch [3/20] - Training Loss: 0.0138 - Test Loss: 0.0127\n",
      "Epoch [4/20] - Training Loss: 0.0123 - Test Loss: 0.0107\n",
      "Epoch [5/20] - Training Loss: 0.0110 - Test Loss: 0.0124\n",
      "Epoch [6/20] - Training Loss: 0.0111 - Test Loss: 0.0095\n",
      "Epoch [7/20] - Training Loss: 0.0098 - Test Loss: 0.0103\n",
      "Epoch [8/20] - Training Loss: 0.0091 - Test Loss: 0.0083\n",
      "Epoch [9/20] - Training Loss: 0.0088 - Test Loss: 0.0081\n",
      "Epoch [10/20] - Training Loss: 0.0082 - Test Loss: 0.0077\n",
      "Epoch [11/20] - Training Loss: 0.0076 - Test Loss: 0.0072\n",
      "Epoch [12/20] - Training Loss: 0.0071 - Test Loss: 0.0063\n",
      "Epoch [13/20] - Training Loss: 0.0069 - Test Loss: 0.0065\n",
      "Epoch [14/20] - Training Loss: 0.0067 - Test Loss: 0.0059\n",
      "Epoch [15/20] - Training Loss: 0.0066 - Test Loss: 0.0057\n",
      "Epoch [16/20] - Training Loss: 0.0066 - Test Loss: 0.0057\n",
      "Epoch [17/20] - Training Loss: 0.0063 - Test Loss: 0.0059\n",
      "Epoch [18/20] - Training Loss: 0.0067 - Test Loss: 0.0059\n",
      "Epoch [19/20] - Training Loss: 0.0063 - Test Loss: 0.0061\n",
      "Epoch [20/20] - Training Loss: 0.0062 - Test Loss: 0.0054\n"
     ]
    }
   ],
   "source": [
    "num_epochs = 20\n",
    "loss_fn = torch.nn.MSELoss(reduction='mean')\n",
    "optimizer = torch.optim.Adam(model.parameters(), lr=1e-3)\n",
    "train_hist, test_hist = utils.train(num_epochs, model, train_loader, test_loader, device, loss_fn, optimizer)"
   ]
  },
  {
   "attachments": {},
   "cell_type": "markdown",
   "metadata": {},
   "source": [
    "MSE на обучающей и тестовой выборке"
   ]
  },
  {
   "cell_type": "code",
   "execution_count": 12,
   "metadata": {},
   "outputs": [
    {
     "data": {
      "image/png": "[encoded data removed]",
      "text/plain": [
       "<Figure size 640x480 with 1 Axes>"
      ]
     },
     "metadata": {},
     "output_type": "display_data"
    }
   ],
   "source": [
    "plt.plot(train_hist)\n",
    "plt.plot(test_hist)\n",
    "plt.show()"
   ]
  },
  {
   "attachments": {},
   "cell_type": "markdown",
   "metadata": {},
   "source": [
    "Сохранение обученной модели"
   ]
  },
  {
   "cell_type": "code",
   "execution_count": 13,
   "metadata": {},
   "outputs": [],
   "source": [
    "torch.save(model, '../../TSLib/models/trained_models/LSTM_NAB.model')"
   ]
  }
 ],
 "metadata": {
  "kernelspec": {
   "display_name": "Python 3.11.4 ('base')",
   "language": "python",
   "name": "python3"
  },
  "language_info": {
   "codemirror_mode": {
    "name": "ipython",
    "version": 3
   },
   "file_extension": ".py",
   "mimetype": "text/x-python",
   "name": "python",
   "nbconvert_exporter": "python",
   "pygments_lexer": "ipython3",
   "version": "3.11.5"
  },
  "orig_nbformat": 4,
  "vscode": {
   "interpreter": {
    "hash": "3c06e3e46abf38078fe4dac36a0085ec2b134ebbd73dd076183d243eeca6918f"
   }
  }
 },
 "nbformat": 4,
 "nbformat_minor": 2
}
